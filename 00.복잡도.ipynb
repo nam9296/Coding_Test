{
 "cells": [
  {
   "cell_type": "code",
   "execution_count": 1,
   "metadata": {},
   "outputs": [
    {
     "name": "stdout",
     "output_type": "stream",
     "text": [
      "time: 0.0\n"
     ]
    }
   ],
   "source": [
    "import time\n",
    "start_time = time.time() # 측정 시작\n",
    "\n",
    "# 프로그램 소스코드\n",
    "end_time = time.time() # 측정 종료\n",
    "print(\"time:\", end_time - start_time) # 수행 시간 출력"
   ]
  },
  {
   "cell_type": "code",
   "execution_count": 2,
   "metadata": {},
   "outputs": [],
   "source": [
    "from random import randint\n",
    "import time"
   ]
  },
  {
   "cell_type": "code",
   "execution_count": 3,
   "metadata": {},
   "outputs": [
    {
     "name": "stdout",
     "output_type": "stream",
     "text": [
      "선택 정렬 성능 측정: 5.938117742538452\n",
      "기본 정렬 라이브러리 성능 측정: 0.00099945068359375\n"
     ]
    }
   ],
   "source": [
    "# 배열에 10,000개의 정수를 삽입\n",
    "array = []\n",
    "for _ in range(10000):\n",
    "    array.append(randint(1, 100)) # 1부터 100 사이의 랜덤한 정수\n",
    "\n",
    "# 선택 정렬 프로그램 성능 측정\n",
    "start_time = time.time()\n",
    "\n",
    "# 선택 정렬 프로그램 소스코드\n",
    "for i in range(len(array)):\n",
    "    min_index = i # 가장 작은 원소의 인덱스\n",
    "    for j in range(i + 1, len(array)):\n",
    "        if array[min_index] > array[j]:\n",
    "            min_index = j\n",
    "    array[i], array[min_index] = array[min_index], array[i] # 스와프\n",
    "\n",
    "end_time = time.time() # 측정 종료\n",
    "print(\"선택 정렬 성능 측정:\", end_time - start_time) # 수행 시간 출력\n",
    "\n",
    "# 배열을 다시 무작위 데이터로 초기화\n",
    "array = []\n",
    "for _ in range(10000):\n",
    "    array.append(randint(1, 100)) # 1부터 100 사이의 랜덤한 정수\n",
    "\n",
    "# 기본 정렬 라이브러리 성능 측정\n",
    "start_time = time.time()\n",
    "\n",
    "# 기본 정렬 라이브러리 사용\n",
    "array.sort()\n",
    "\n",
    "end_time = time.time() # 측정 종료\n",
    "print(\"기본 정렬 라이브러리 성능 측정:\", end_time - start_time) # 수행 시간 출력"
   ]
  },
  {
   "cell_type": "code",
   "execution_count": null,
   "metadata": {},
   "outputs": [],
   "source": []
  }
 ],
 "metadata": {
  "kernelspec": {
   "display_name": "Python 3",
   "language": "python",
   "name": "python3"
  },
  "language_info": {
   "codemirror_mode": {
    "name": "ipython",
    "version": 3
   },
   "file_extension": ".py",
   "mimetype": "text/x-python",
   "name": "python",
   "nbconvert_exporter": "python",
   "pygments_lexer": "ipython3",
   "version": "3.8.3"
  }
 },
 "nbformat": 4,
 "nbformat_minor": 4
}
